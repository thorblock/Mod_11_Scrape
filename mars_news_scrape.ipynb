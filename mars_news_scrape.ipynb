{
 "cells": [
  {
   "cell_type": "code",
   "execution_count": 19,
   "metadata": {},
   "outputs": [],
   "source": [
    "# Module 12 - Part 1: Mars News\n",
    "from splinter import Browser\n",
    "from bs4 import BeautifulSoup\n",
    "import requests\n",
    "import numpy as np\n",
    "import pandas as pd"
   ]
  },
  {
   "cell_type": "code",
   "execution_count": 2,
   "metadata": {},
   "outputs": [],
   "source": [
    "browser = Browser('chrome')"
   ]
  },
  {
   "cell_type": "code",
   "execution_count": 3,
   "metadata": {},
   "outputs": [],
   "source": [
    "# visit the Mars news site\n",
    "url = 'https://static.bc-edx.com/data/web/mars_news/index.html'\n",
    "browser.visit(url)"
   ]
  },
  {
   "cell_type": "code",
   "execution_count": null,
   "metadata": {},
   "outputs": [],
   "source": [
    "# browser close for end\n",
    "browser.quit()"
   ]
  },
  {
   "cell_type": "code",
   "execution_count": 6,
   "metadata": {},
   "outputs": [],
   "source": [
    "# time for soup\n",
    "html =  browser.html\n",
    "soup = BeautifulSoup(html, features='html.parser')"
   ]
  },
  {
   "cell_type": "code",
   "execution_count": 34,
   "metadata": {},
   "outputs": [],
   "source": [
    "# first selecting for the simplest container that has all the elements\n",
    "# following this selection we can filter for more specific items\n",
    "image_y_desc_container = soup.find('div', id='news', class_ = 'container')\n",
    "# find_all to filter specifics\n",
    "# article title, text preview, and date\n",
    "article_title = image_y_desc_container.find_all('div', class_ = 'content_title')\n",
    "article_preview = image_y_desc_container.find_all('div', class_ = 'article_teaser_body')\n",
    "article_date = image_y_desc_container.find_all('div', class_ = 'list_date')\n",
    "\n",
    "# lists so that we can append\n",
    "article_title_list = []\n",
    "article_preview_list = []\n",
    "article_date_list = []\n",
    "\n",
    "# using overall for loop using title_list length, hopefully it all matches up\n",
    "for j in range(len(article_title)):\n",
    "    article_title_list.append((article_title[j].string) if \n",
    "                              # adding in case it finds something that isn't a string\n",
    "                              not article_title[j].string.startswith(\"N/A\") else np.nan)\n",
    "    article_preview_list.append((article_preview[j].string) if \n",
    "                              not article_preview[j].string.startswith(\"N/A\") else np.nan)\n",
    "    article_date_list.append((article_date[j].string) if \n",
    "                              not article_date[j].string.startswith(\"N/A\") else np.nan)"
   ]
  },
  {
   "cell_type": "code",
   "execution_count": 35,
   "metadata": {},
   "outputs": [],
   "source": [
    "# dictionary to hold lists, structuring as if the result would be a csv because why not\n",
    "columns = {\n",
    "    'Article_Title': article_title_list,\n",
    "    'Article_Preview': article_preview_list,\n",
    "    'Article_Published': article_date_list\n",
    "}"
   ]
  },
  {
   "cell_type": "code",
   "execution_count": 36,
   "metadata": {},
   "outputs": [
    {
     "data": {
      "text/html": [
       "<div>\n",
       "<style scoped>\n",
       "    .dataframe tbody tr th:only-of-type {\n",
       "        vertical-align: middle;\n",
       "    }\n",
       "\n",
       "    .dataframe tbody tr th {\n",
       "        vertical-align: top;\n",
       "    }\n",
       "\n",
       "    .dataframe thead th {\n",
       "        text-align: right;\n",
       "    }\n",
       "</style>\n",
       "<table border=\"1\" class=\"dataframe\">\n",
       "  <thead>\n",
       "    <tr style=\"text-align: right;\">\n",
       "      <th></th>\n",
       "      <th>Article_Published</th>\n",
       "      <th>Article_Title</th>\n",
       "      <th>Article_Preview</th>\n",
       "    </tr>\n",
       "  </thead>\n",
       "  <tbody>\n",
       "    <tr>\n",
       "      <th>0</th>\n",
       "      <td>November 9, 2022</td>\n",
       "      <td>NASA's MAVEN Observes Martian Light Show Cause...</td>\n",
       "      <td>For the first time in its eight years orbiting...</td>\n",
       "    </tr>\n",
       "    <tr>\n",
       "      <th>1</th>\n",
       "      <td>November 1, 2022</td>\n",
       "      <td>NASA Prepares to Say 'Farewell' to InSight Spa...</td>\n",
       "      <td>A closer look at what goes into wrapping up th...</td>\n",
       "    </tr>\n",
       "    <tr>\n",
       "      <th>2</th>\n",
       "      <td>October 28, 2022</td>\n",
       "      <td>NASA and ESA Agree on Next Steps to Return Mar...</td>\n",
       "      <td>The agency’s Perseverance rover will establish...</td>\n",
       "    </tr>\n",
       "    <tr>\n",
       "      <th>3</th>\n",
       "      <td>October 27, 2022</td>\n",
       "      <td>NASA's InSight Lander Detects Stunning Meteoro...</td>\n",
       "      <td>The agency’s lander felt the ground shake duri...</td>\n",
       "    </tr>\n",
       "    <tr>\n",
       "      <th>4</th>\n",
       "      <td>October 21, 2022</td>\n",
       "      <td>NASA To Host Briefing on InSight, Mars Reconna...</td>\n",
       "      <td>Scientists from two Mars missions will discuss...</td>\n",
       "    </tr>\n",
       "  </tbody>\n",
       "</table>\n",
       "</div>"
      ],
      "text/plain": [
       "  Article_Published                                      Article_Title  \\\n",
       "0  November 9, 2022  NASA's MAVEN Observes Martian Light Show Cause...   \n",
       "1  November 1, 2022  NASA Prepares to Say 'Farewell' to InSight Spa...   \n",
       "2  October 28, 2022  NASA and ESA Agree on Next Steps to Return Mar...   \n",
       "3  October 27, 2022  NASA's InSight Lander Detects Stunning Meteoro...   \n",
       "4  October 21, 2022  NASA To Host Briefing on InSight, Mars Reconna...   \n",
       "\n",
       "                                     Article_Preview  \n",
       "0  For the first time in its eight years orbiting...  \n",
       "1  A closer look at what goes into wrapping up th...  \n",
       "2  The agency’s Perseverance rover will establish...  \n",
       "3  The agency’s lander felt the ground shake duri...  \n",
       "4  Scientists from two Mars missions will discuss...  "
      ]
     },
     "execution_count": 36,
     "metadata": {},
     "output_type": "execute_result"
    }
   ],
   "source": [
    "# dataframe, leaving to parse by columns\n",
    "df = pd.DataFrame(columns)\n",
    "df = df[['Article_Published','Article_Title','Article_Preview']]\n",
    "df.head(5)"
   ]
  },
  {
   "cell_type": "code",
   "execution_count": 37,
   "metadata": {},
   "outputs": [
    {
     "name": "stdout",
     "output_type": "stream",
     "text": [
      "Article Title:  NASA's MAVEN Observes Martian Light Show Caused by Major Solar Storm\n",
      "Article Preview:  For the first time in its eight years orbiting Mars, NASA’s MAVEN mission witnessed two different types of ultraviolet aurorae simultaneously, the result of solar storms that began on Aug. 27.\n",
      "---------------------------------------------\n",
      "Article Title:  NASA Prepares to Say 'Farewell' to InSight Spacecraft\n",
      "Article Preview:  A closer look at what goes into wrapping up the mission as the spacecraft’s power supply continues to dwindle.\n",
      "---------------------------------------------\n",
      "Article Title:  NASA and ESA Agree on Next Steps to Return Mars Samples to Earth\n",
      "Article Preview:  The agency’s Perseverance rover will establish the first sample depot on Mars.\n",
      "---------------------------------------------\n",
      "Article Title:  NASA's InSight Lander Detects Stunning Meteoroid Impact on Mars\n",
      "Article Preview:  The agency’s lander felt the ground shake during the impact while cameras aboard the Mars Reconnaissance Orbiter spotted the yawning new crater from space.\n",
      "---------------------------------------------\n",
      "Article Title:  NASA To Host Briefing on InSight, Mars Reconnaissance Orbiter Findings\n",
      "Article Preview:  Scientists from two Mars missions will discuss how they combined images and data for a major finding on the Red Planet.\n",
      "---------------------------------------------\n",
      "Article Title:  Why NASA Is Trying To Crash Land on Mars\n",
      "Article Preview:  Like a car’s crumple zone, the experimental SHIELD lander is designed to absorb a hard impact.\n",
      "---------------------------------------------\n",
      "Article Title:  Curiosity Mars Rover Reaches Long-Awaited Salty Region\n",
      "Article Preview:  After years of climbing, the Mars rover has arrived at a special region believed to have formed as Mars’ climate was drying.\n",
      "---------------------------------------------\n",
      "Article Title:  Mars Mission Shields Up for Tests\n",
      "Article Preview:  Protecting Mars Sample Return spacecraft from micrometeorites requires high-caliber work.\n",
      "---------------------------------------------\n",
      "Article Title:  NASA's InSight Waits Out Dust Storm\n",
      "Article Preview:  InSight’s team is taking steps to help the solar-powered lander continue operating for as long as possible.\n",
      "---------------------------------------------\n",
      "Article Title:  NASA's InSight 'Hears' Its First Meteoroid Impacts on Mars\n",
      "Article Preview:  The Mars lander’s seismometer has picked up vibrations from four separate impacts in the past two years.\n",
      "---------------------------------------------\n",
      "Article Title:  NASA's Perseverance Rover Investigates Geologically Rich Mars Terrain\n",
      "Article Preview:  The latest findings provide greater detail on a region of the Red Planet that has a watery past and is yielding promising samples for the NASA-ESA Mars Sample Return campaign.\n",
      "---------------------------------------------\n",
      "Article Title:  NASA to Host Briefing on Perseverance Mars Rover Mission Operations\n",
      "Article Preview:  Members of the mission will discuss the rover’s activities as it gathers samples in an ancient river delta.\n",
      "---------------------------------------------\n",
      "Article Title:  NASA's Perseverance Makes New Discoveries in Mars' Jezero Crater\n",
      "Article Preview:  The rover found that Jezero Crater’s floor is made up of volcanic rocks that have interacted with water.\n",
      "---------------------------------------------\n",
      "Article Title:  10 Years Since Landing, NASA's Curiosity Mars Rover Still Has Drive\n",
      "Article Preview:  Despite signs of wear, the intrepid spacecraft is about to start an exciting new chapter of its mission as it climbs a Martian mountain.\n",
      "---------------------------------------------\n",
      "Article Title:  SAM's Top 5 Discoveries Aboard NASA's Curiosity Rover at Mars\n",
      "Article Preview:  “Selfie” of the Curiosity rover with inset showing the SAM instrument prior to installation on the rover.\n",
      "---------------------------------------------\n"
     ]
    }
   ],
   "source": [
    "# assignment wants it printed a certain way:\n",
    "# Title\n",
    "# Preview\n",
    "# Title, so on\n",
    "for k in range(len(article_title)):\n",
    "    print(f\"Article Title: \", article_title_list[k])\n",
    "    print(f\"Article Preview: \", article_preview_list[k])\n",
    "    print(f\"-\"*45)"
   ]
  }
 ],
 "metadata": {
  "kernelspec": {
   "display_name": "Python 3",
   "language": "python",
   "name": "python3"
  },
  "language_info": {
   "codemirror_mode": {
    "name": "ipython",
    "version": 3
   },
   "file_extension": ".py",
   "mimetype": "text/x-python",
   "name": "python",
   "nbconvert_exporter": "python",
   "pygments_lexer": "ipython3",
   "version": "3.11.4"
  },
  "orig_nbformat": 4
 },
 "nbformat": 4,
 "nbformat_minor": 2
}
