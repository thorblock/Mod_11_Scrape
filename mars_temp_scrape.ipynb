{
 "cells": [
  {
   "cell_type": "code",
   "execution_count": 3,
   "metadata": {},
   "outputs": [],
   "source": [
    "# Module 11 - Part 2: Mars Weather\n",
    "# import dependencies\n",
    "from splinter import Browser\n",
    "from bs4 import BeautifulSoup, element\n",
    "import requests\n",
    "import matplotlib.pyplot as plt\n",
    "import matplotlib.dates as mdates\n",
    "from matplotlib.ticker import MultipleLocator\n",
    "import pandas as pd"
   ]
  },
  {
   "cell_type": "code",
   "execution_count": 4,
   "metadata": {},
   "outputs": [],
   "source": [
    "browser = Browser('chrome')"
   ]
  },
  {
   "cell_type": "code",
   "execution_count": 5,
   "metadata": {},
   "outputs": [],
   "source": [
    "# Visit the website\n",
    "# https://static.bc-edx.com/data/web/mars_facts/temperature.html\n",
    "url = \"https://static.bc-edx.com/data/web/mars_facts/temperature.html\"\n",
    "browser.visit(url)"
   ]
  },
  {
   "cell_type": "code",
   "execution_count": 93,
   "metadata": {},
   "outputs": [],
   "source": [
    "# browser close for end\n",
    "# browser.quit()"
   ]
  },
  {
   "cell_type": "code",
   "execution_count": 6,
   "metadata": {},
   "outputs": [],
   "source": [
    "# time for soup\n",
    "html =  browser.html\n",
    "soup = BeautifulSoup(html, features='html.parser')"
   ]
  },
  {
   "cell_type": "code",
   "execution_count": 7,
   "metadata": {},
   "outputs": [],
   "source": [
    "# id table container, it's named table\n",
    "table_container = soup.find('table', class_ = 'table')\n",
    "# run through table_container\n",
    "# first we want all of the table rows, not adding class_='data-row'\n",
    "# data[0] can be used as our column headers\n",
    "if table_container:\n",
    "    data = []\n",
    "    table_rows = table_container.find_all(\"tr\")\n",
    "    for row in table_rows:\n",
    "        # looking at each individual cell, individual cells hail from either th (for headers)\n",
    "        # or td (for the actual numbers)\n",
    "        ind_cells = row.find_all(['th','td'])\n",
    "        row_data = [ind_cell.get_text(strip=True) for ind_cell in ind_cells]\n",
    "        data.append(row_data)"
   ]
  },
  {
   "cell_type": "code",
   "execution_count": 8,
   "metadata": {},
   "outputs": [
    {
     "data": {
      "text/html": [
       "<div>\n",
       "<style scoped>\n",
       "    .dataframe tbody tr th:only-of-type {\n",
       "        vertical-align: middle;\n",
       "    }\n",
       "\n",
       "    .dataframe tbody tr th {\n",
       "        vertical-align: top;\n",
       "    }\n",
       "\n",
       "    .dataframe thead th {\n",
       "        text-align: right;\n",
       "    }\n",
       "</style>\n",
       "<table border=\"1\" class=\"dataframe\">\n",
       "  <thead>\n",
       "    <tr style=\"text-align: right;\">\n",
       "      <th></th>\n",
       "      <th>id</th>\n",
       "      <th>terrestrial_date</th>\n",
       "      <th>sol</th>\n",
       "      <th>ls</th>\n",
       "      <th>month</th>\n",
       "      <th>min_temp</th>\n",
       "      <th>pressure</th>\n",
       "    </tr>\n",
       "  </thead>\n",
       "  <tbody>\n",
       "    <tr>\n",
       "      <th>0</th>\n",
       "      <td>2</td>\n",
       "      <td>2012-08-16</td>\n",
       "      <td>10</td>\n",
       "      <td>155</td>\n",
       "      <td>6</td>\n",
       "      <td>-75.0</td>\n",
       "      <td>739.0</td>\n",
       "    </tr>\n",
       "    <tr>\n",
       "      <th>1</th>\n",
       "      <td>13</td>\n",
       "      <td>2012-08-17</td>\n",
       "      <td>11</td>\n",
       "      <td>156</td>\n",
       "      <td>6</td>\n",
       "      <td>-76.0</td>\n",
       "      <td>740.0</td>\n",
       "    </tr>\n",
       "    <tr>\n",
       "      <th>2</th>\n",
       "      <td>24</td>\n",
       "      <td>2012-08-18</td>\n",
       "      <td>12</td>\n",
       "      <td>156</td>\n",
       "      <td>6</td>\n",
       "      <td>-76.0</td>\n",
       "      <td>741.0</td>\n",
       "    </tr>\n",
       "    <tr>\n",
       "      <th>3</th>\n",
       "      <td>35</td>\n",
       "      <td>2012-08-19</td>\n",
       "      <td>13</td>\n",
       "      <td>157</td>\n",
       "      <td>6</td>\n",
       "      <td>-74.0</td>\n",
       "      <td>732.0</td>\n",
       "    </tr>\n",
       "    <tr>\n",
       "      <th>4</th>\n",
       "      <td>46</td>\n",
       "      <td>2012-08-20</td>\n",
       "      <td>14</td>\n",
       "      <td>157</td>\n",
       "      <td>6</td>\n",
       "      <td>-74.0</td>\n",
       "      <td>740.0</td>\n",
       "    </tr>\n",
       "  </tbody>\n",
       "</table>\n",
       "</div>"
      ],
      "text/plain": [
       "   id terrestrial_date  sol   ls  month  min_temp  pressure\n",
       "0   2       2012-08-16   10  155      6     -75.0     739.0\n",
       "1  13       2012-08-17   11  156      6     -76.0     740.0\n",
       "2  24       2012-08-18   12  156      6     -76.0     741.0\n",
       "3  35       2012-08-19   13  157      6     -74.0     732.0\n",
       "4  46       2012-08-20   14  157      6     -74.0     740.0"
      ]
     },
     "execution_count": 8,
     "metadata": {},
     "output_type": "execute_result"
    }
   ],
   "source": [
    "# data[0] contains headers, use headers as column names in df\n",
    "mars_headers = data[0]\n",
    "# data[1:] are the numbas, col data will be parsed in line with headers\n",
    "mars_data = data[1:]\n",
    "mars_scrape_df = pd.DataFrame(mars_data, columns=mars_headers)\n",
    "# recast columns as specific data types\n",
    "mars_scrape_df['id'] = mars_scrape_df['id'].astype(object)\n",
    "mars_scrape_df['terrestrial_date'] = pd.to_datetime(mars_scrape_df['terrestrial_date'])\n",
    "mars_scrape_df['sol'] = mars_scrape_df['sol'].astype(int)\n",
    "mars_scrape_df['ls'] = mars_scrape_df['ls'].astype(int)\n",
    "mars_scrape_df['month'] = mars_scrape_df['month'].astype(int)\n",
    "mars_scrape_df['min_temp'] = mars_scrape_df['min_temp'].astype(float)\n",
    "mars_scrape_df['pressure'] = mars_scrape_df['pressure'].astype(float)\n",
    "mars_scrape_df.head(5)"
   ]
  },
  {
   "cell_type": "code",
   "execution_count": 9,
   "metadata": {},
   "outputs": [],
   "source": [
    "# creating an output csv\n",
    "output_folder = \"Output\"\n",
    "output_csv = f\"{output_folder}/mars_temperature_data.csv\"\n",
    "# output as mars_temperature_data\n",
    "mars_scrape_df.to_csv(output_csv, sep=',', encoding='utf-8', index=False)"
   ]
  },
  {
   "cell_type": "code",
   "execution_count": 10,
   "metadata": {},
   "outputs": [
    {
     "data": {
      "text/plain": [
       "id                          object\n",
       "terrestrial_date    datetime64[ns]\n",
       "sol                          int32\n",
       "ls                           int32\n",
       "month                        int32\n",
       "min_temp                   float64\n",
       "pressure                   float64\n",
       "dtype: object"
      ]
     },
     "execution_count": 10,
     "metadata": {},
     "output_type": "execute_result"
    }
   ],
   "source": [
    "# confirm data types of scraped info\n",
    "mars_scrape_df.dtypes"
   ]
  },
  {
   "cell_type": "markdown",
   "metadata": {},
   "source": [
    "### questions, O questions\n",
    "\n",
    "Analyze your dataset by using Pandas functions to answer the following questions:\n",
    "\n",
    "1. How many months exist on Mars?\n",
    "2. How many Martian (and not Earth) days worth of data exist in the scraped dataset?\n",
    "3. What are the coldest and the warmest months on Mars (at the location of Curiosity)? To answer this question:\n",
    "    * Find the average the minimum daily temperature for all of the months.\n",
    "    * Plot the results as a bar chart.\n",
    "4. Which months have the lowest and the highest atmospheric pressure on Mars? To answer this question:\n",
    "    * Find the average the daily atmospheric pressure of all the months.\n",
    "    * Plot the results as a bar chart.\n",
    "5. About how many terrestrial (Earth) days exist in a Martian year? To answer this question:\n",
    "    * Consider how many days elapse on Earth in the time that Mars circles the Sun once.\n",
    "    * Visually estimate the result by plotting the daily minimum temperature."
   ]
  },
  {
   "cell_type": "code",
   "execution_count": 11,
   "metadata": {},
   "outputs": [
    {
     "name": "stdout",
     "output_type": "stream",
     "text": [
      "There are 12 martian months\n",
      "Here's the frequency of each months appearance: \n",
      "month\n",
      "1     174\n",
      "2     178\n",
      "3     192\n",
      "4     194\n",
      "5     149\n",
      "6     147\n",
      "7     142\n",
      "8     141\n",
      "9     134\n",
      "10    112\n",
      "11    138\n",
      "12    166\n",
      "Name: count, dtype: int64\n"
     ]
    }
   ],
   "source": [
    "#1. \n",
    "month_max = mars_scrape_df['month'].max()\n",
    "month_count = mars_scrape_df['month'].value_counts().sort_index()\n",
    "print(f\"There are\", month_max, \"martian months\")\n",
    "print(f\"Here's the frequency of each months appearance: \")\n",
    "print(month_count)"
   ]
  },
  {
   "cell_type": "code",
   "execution_count": 12,
   "metadata": {},
   "outputs": [
    {
     "data": {
      "text/plain": [
       "1867"
      ]
     },
     "execution_count": 12,
     "metadata": {},
     "output_type": "execute_result"
    }
   ],
   "source": [
    "#2. number of unique observations (martian days)\n",
    "mars_scrape_df['sol'].nunique()"
   ]
  },
  {
   "cell_type": "code",
   "execution_count": 13,
   "metadata": {},
   "outputs": [
    {
     "name": "stdout",
     "output_type": "stream",
     "text": [
      "month\n",
      "1    -77.161\n",
      "2    -79.933\n",
      "3    -83.307\n",
      "4    -82.747\n",
      "5    -79.309\n",
      "6    -75.299\n",
      "7    -72.282\n",
      "8    -68.383\n",
      "9    -69.172\n",
      "10   -71.982\n",
      "11   -71.986\n",
      "12   -74.452\n",
      "Name: min_temp, dtype: float64\n",
      "Lowest average min temp:  -83.307\n",
      "Greatest average min temp:  -68.383\n"
     ]
    }
   ],
   "source": [
    "# 3. averages group by month, setting numeric_only to pare down\n",
    "mars_avg = mars_scrape_df.groupby('month').mean(numeric_only=True)\n",
    "select_min_temp = mars_avg['min_temp']\n",
    "lowest_temp = select_min_temp.min()\n",
    "greatest_temp = select_min_temp.max()\n",
    "print(round(select_min_temp,3))\n",
    "print(f\"Lowest average min temp: \", round(lowest_temp, 3))\n",
    "print(f\"Greatest average min temp: \", round(greatest_temp, 3))\n"
   ]
  },
  {
   "cell_type": "code",
   "execution_count": 14,
   "metadata": {},
   "outputs": [
    {
     "data": {
      "image/png": "[encoded data removed]",
      "text/plain": [
       "<Figure size 640x480 with 1 Axes>"
      ]
     },
     "metadata": {},
     "output_type": "display_data"
    }
   ],
   "source": [
    "# 3. Bar Chart for min temps by month\n",
    "plt.bar(select_min_temp.index, select_min_temp.values, align='center',\n",
    "        color= ['aqua','aqua','lightblue','aqua','aqua','aqua','aqua','pink','aqua','aqua','aqua','aqua'])\n",
    "plt.title(\"Average Minimum Temp for each Martian Month\")\n",
    "plt.xlabel(\"Month\")\n",
    "plt.xticks(select_min_temp.index, rotation = 0, ha='center')\n",
    "plt.ylabel(\"Average Min Temp (°F)\")\n",
    "plt.show()"
   ]
  },
  {
   "cell_type": "code",
   "execution_count": 15,
   "metadata": {},
   "outputs": [
    {
     "name": "stdout",
     "output_type": "stream",
     "text": [
      "month\n",
      "1     862.489\n",
      "2     889.455\n",
      "3     877.323\n",
      "4     806.330\n",
      "5     748.557\n",
      "6     745.054\n",
      "7     795.106\n",
      "8     873.830\n",
      "9     913.306\n",
      "10    887.312\n",
      "11    857.014\n",
      "12    842.157\n",
      "Name: pressure, dtype: float64\n",
      "Lowest average pressure:  745.054\n",
      "Greatest average pressure:  913.306\n"
     ]
    }
   ],
   "source": [
    "#4. selecting for average pressure, lowest pressure id, greatest pressure id\n",
    "select_avg_pressure = mars_avg['pressure']\n",
    "lowest_pressure = select_avg_pressure.min()\n",
    "greatest_pressure = select_avg_pressure.max()\n",
    "print(round(select_avg_pressure, 3))\n",
    "print(f\"Lowest average pressure: \", round(lowest_pressure, 3))\n",
    "print(f\"Greatest average pressure: \", round(greatest_pressure, 3))"
   ]
  },
  {
   "cell_type": "code",
   "execution_count": 16,
   "metadata": {},
   "outputs": [
    {
     "data": {
      "image/png": "[encoded data removed]",
      "text/plain": [
       "<Figure size 640x480 with 1 Axes>"
      ]
     },
     "metadata": {},
     "output_type": "display_data"
    }
   ],
   "source": [
    "#4. bar chart for average pressure by month\n",
    "# explode doesn't work, idk what i expected\n",
    "plt.bar(select_avg_pressure.index, select_avg_pressure.values, align='center', \n",
    "        color= ['aquamarine','aquamarine','aquamarine','aquamarine','aquamarine','lightblue','aquamarine','aquamarine','orange','aquamarine','aquamarine','aquamarine'])\n",
    "plt.title(\"Average Pressure for each Martian Month\")\n",
    "plt.xlabel(\"Month\")\n",
    "plt.xticks(select_min_temp.index, rotation = 0, ha='center')\n",
    "plt.ylabel(\"Average Pressure (Pa)\")\n",
    "plt.show()"
   ]
  },
  {
   "cell_type": "code",
   "execution_count": 17,
   "metadata": {},
   "outputs": [
    {
     "name": "stdout",
     "output_type": "stream",
     "text": [
      "A martian year consists of:  687 days 00:00:00\n"
     ]
    }
   ],
   "source": [
    "# How many terrestrial (earth) days are there in a Martian year?\n",
    "# Use solar longitude to id martian year, run difference in terrestrial_date for earth days\n",
    "# let's just set starting ls to zero, year completes when we return to zero\n",
    "ls_zero = (mars_scrape_df[mars_scrape_df['ls'] == 0])\n",
    "# .loc keeps kicking back, selecting rows manually for now\n",
    "date_difference = ls_zero.iloc[3]['terrestrial_date'] - ls_zero.iloc[1]['terrestrial_date']\n",
    "print(f\"A martian year consists of: \", date_difference)"
   ]
  },
  {
   "cell_type": "code",
   "execution_count": 25,
   "metadata": {},
   "outputs": [
    {
     "data": {
      "image/png": "[encoded data removed]",
      "text/plain": [
       "<Figure size 640x480 with 1 Axes>"
      ]
     },
     "metadata": {},
     "output_type": "display_data"
    },
    {
     "name": "stdout",
     "output_type": "stream",
     "text": [
      "A martian year based on the above graph is 650 - 700 Earth days.\n"
     ]
    }
   ],
   "source": [
    "# visualize difference using min_temp to estimate instead?\n",
    "# need to hash terrestrial dates as days, can't use a counter, some dates are missing\n",
    "# index 7 & 8 confirms days are being skipped, so I think this works\n",
    "mars_scrape_df['Days'] = (mars_scrape_df['terrestrial_date'] - mars_scrape_df['terrestrial_date'].min())\n",
    "plt.plot(mars_scrape_df['Days'], mars_scrape_df['min_temp'])\n",
    "plt.title(\"Min Temp on Mars parsed by Earth days\")\n",
    "plt.xlabel(\"Days\")\n",
    "# why the frick frack are the xticks so wonky\n",
    "plt.xticks()\n",
    "plt.ylabel(\"Min Temp (°F)\")\n",
    "plt.gcf().autofmt_xdate()\n",
    "plt.show()\n",
    "print(\"A martian year based on the above graph is 650 - 700 Earth days.\")"
   ]
  },
  {
   "cell_type": "code",
   "execution_count": 28,
   "metadata": {},
   "outputs": [
    {
     "data": {
      "text/html": [
       "<div>\n",
       "<style scoped>\n",
       "    .dataframe tbody tr th:only-of-type {\n",
       "        vertical-align: middle;\n",
       "    }\n",
       "\n",
       "    .dataframe tbody tr th {\n",
       "        vertical-align: top;\n",
       "    }\n",
       "\n",
       "    .dataframe thead th {\n",
       "        text-align: right;\n",
       "    }\n",
       "</style>\n",
       "<table border=\"1\" class=\"dataframe\">\n",
       "  <thead>\n",
       "    <tr style=\"text-align: right;\">\n",
       "      <th></th>\n",
       "      <th>id</th>\n",
       "      <th>terrestrial_date</th>\n",
       "      <th>sol</th>\n",
       "      <th>ls</th>\n",
       "      <th>month</th>\n",
       "      <th>min_temp</th>\n",
       "      <th>pressure</th>\n",
       "      <th>Days</th>\n",
       "    </tr>\n",
       "  </thead>\n",
       "  <tbody>\n",
       "    <tr>\n",
       "      <th>0</th>\n",
       "      <td>2</td>\n",
       "      <td>2012-08-16</td>\n",
       "      <td>10</td>\n",
       "      <td>155</td>\n",
       "      <td>6</td>\n",
       "      <td>-75.0</td>\n",
       "      <td>739.0</td>\n",
       "      <td>0 days</td>\n",
       "    </tr>\n",
       "    <tr>\n",
       "      <th>1</th>\n",
       "      <td>13</td>\n",
       "      <td>2012-08-17</td>\n",
       "      <td>11</td>\n",
       "      <td>156</td>\n",
       "      <td>6</td>\n",
       "      <td>-76.0</td>\n",
       "      <td>740.0</td>\n",
       "      <td>1 days</td>\n",
       "    </tr>\n",
       "    <tr>\n",
       "      <th>2</th>\n",
       "      <td>24</td>\n",
       "      <td>2012-08-18</td>\n",
       "      <td>12</td>\n",
       "      <td>156</td>\n",
       "      <td>6</td>\n",
       "      <td>-76.0</td>\n",
       "      <td>741.0</td>\n",
       "      <td>2 days</td>\n",
       "    </tr>\n",
       "    <tr>\n",
       "      <th>3</th>\n",
       "      <td>35</td>\n",
       "      <td>2012-08-19</td>\n",
       "      <td>13</td>\n",
       "      <td>157</td>\n",
       "      <td>6</td>\n",
       "      <td>-74.0</td>\n",
       "      <td>732.0</td>\n",
       "      <td>3 days</td>\n",
       "    </tr>\n",
       "    <tr>\n",
       "      <th>4</th>\n",
       "      <td>46</td>\n",
       "      <td>2012-08-20</td>\n",
       "      <td>14</td>\n",
       "      <td>157</td>\n",
       "      <td>6</td>\n",
       "      <td>-74.0</td>\n",
       "      <td>740.0</td>\n",
       "      <td>4 days</td>\n",
       "    </tr>\n",
       "    <tr>\n",
       "      <th>5</th>\n",
       "      <td>57</td>\n",
       "      <td>2012-08-21</td>\n",
       "      <td>15</td>\n",
       "      <td>158</td>\n",
       "      <td>6</td>\n",
       "      <td>-78.0</td>\n",
       "      <td>740.0</td>\n",
       "      <td>5 days</td>\n",
       "    </tr>\n",
       "    <tr>\n",
       "      <th>6</th>\n",
       "      <td>68</td>\n",
       "      <td>2012-08-22</td>\n",
       "      <td>16</td>\n",
       "      <td>158</td>\n",
       "      <td>6</td>\n",
       "      <td>-77.0</td>\n",
       "      <td>740.0</td>\n",
       "      <td>6 days</td>\n",
       "    </tr>\n",
       "    <tr>\n",
       "      <th>7</th>\n",
       "      <td>79</td>\n",
       "      <td>2012-08-23</td>\n",
       "      <td>17</td>\n",
       "      <td>159</td>\n",
       "      <td>6</td>\n",
       "      <td>-76.0</td>\n",
       "      <td>742.0</td>\n",
       "      <td>7 days</td>\n",
       "    </tr>\n",
       "    <tr>\n",
       "      <th>8</th>\n",
       "      <td>112</td>\n",
       "      <td>2012-08-27</td>\n",
       "      <td>21</td>\n",
       "      <td>161</td>\n",
       "      <td>6</td>\n",
       "      <td>-74.0</td>\n",
       "      <td>741.0</td>\n",
       "      <td>11 days</td>\n",
       "    </tr>\n",
       "    <tr>\n",
       "      <th>9</th>\n",
       "      <td>114</td>\n",
       "      <td>2012-08-28</td>\n",
       "      <td>22</td>\n",
       "      <td>162</td>\n",
       "      <td>6</td>\n",
       "      <td>-74.0</td>\n",
       "      <td>742.0</td>\n",
       "      <td>12 days</td>\n",
       "    </tr>\n",
       "    <tr>\n",
       "      <th>10</th>\n",
       "      <td>123</td>\n",
       "      <td>2012-08-29</td>\n",
       "      <td>23</td>\n",
       "      <td>162</td>\n",
       "      <td>6</td>\n",
       "      <td>-75.0</td>\n",
       "      <td>741.0</td>\n",
       "      <td>13 days</td>\n",
       "    </tr>\n",
       "    <tr>\n",
       "      <th>11</th>\n",
       "      <td>134</td>\n",
       "      <td>2012-08-30</td>\n",
       "      <td>24</td>\n",
       "      <td>163</td>\n",
       "      <td>6</td>\n",
       "      <td>-75.0</td>\n",
       "      <td>742.0</td>\n",
       "      <td>14 days</td>\n",
       "    </tr>\n",
       "  </tbody>\n",
       "</table>\n",
       "</div>"
      ],
      "text/plain": [
       "     id terrestrial_date  sol   ls  month  min_temp  pressure    Days\n",
       "0     2       2012-08-16   10  155      6     -75.0     739.0  0 days\n",
       "1    13       2012-08-17   11  156      6     -76.0     740.0  1 days\n",
       "2    24       2012-08-18   12  156      6     -76.0     741.0  2 days\n",
       "3    35       2012-08-19   13  157      6     -74.0     732.0  3 days\n",
       "4    46       2012-08-20   14  157      6     -74.0     740.0  4 days\n",
       "5    57       2012-08-21   15  158      6     -78.0     740.0  5 days\n",
       "6    68       2012-08-22   16  158      6     -77.0     740.0  6 days\n",
       "7    79       2012-08-23   17  159      6     -76.0     742.0  7 days\n",
       "8   112       2012-08-27   21  161      6     -74.0     741.0 11 days\n",
       "9   114       2012-08-28   22  162      6     -74.0     742.0 12 days\n",
       "10  123       2012-08-29   23  162      6     -75.0     741.0 13 days\n",
       "11  134       2012-08-30   24  163      6     -75.0     742.0 14 days"
      ]
     },
     "execution_count": 28,
     "metadata": {},
     "output_type": "execute_result"
    }
   ],
   "source": [
    "mars_scrape_df.head(12)"
   ]
  },
  {
   "cell_type": "code",
   "execution_count": 29,
   "metadata": {},
   "outputs": [],
   "source": [
    "# creating a second output csv\n",
    "output_folder = \"Output\"\n",
    "output_csv = f\"{output_folder}/mars_temperature_data_w.days.csv\"\n",
    "# output as mars_temperature_data\n",
    "mars_scrape_df.to_csv(output_csv, sep=',', encoding='utf-8', index=False)"
   ]
  },
  {
   "cell_type": "code",
   "execution_count": 30,
   "metadata": {},
   "outputs": [],
   "source": [
    "# browser close for end\n",
    "browser.quit()"
   ]
  }
 ],
 "metadata": {
  "kernelspec": {
   "display_name": "Python 3",
   "language": "python",
   "name": "python3"
  },
  "language_info": {
   "codemirror_mode": {
    "name": "ipython",
    "version": 3
   },
   "file_extension": ".py",
   "mimetype": "text/x-python",
   "name": "python",
   "nbconvert_exporter": "python",
   "pygments_lexer": "ipython3",
   "version": "3.11.4"
  },
  "orig_nbformat": 4
 },
 "nbformat": 4,
 "nbformat_minor": 2
}
