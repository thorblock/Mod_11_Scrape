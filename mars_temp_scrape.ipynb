{
 "cells": [
  {
   "cell_type": "code",
   "execution_count": 39,
   "metadata": {},
   "outputs": [],
   "source": [
    "# Module 11 - Part 2: Mars Weather\n",
    "# import dependencies\n",
    "from splinter import Browser\n",
    "from bs4 import BeautifulSoup, element\n",
    "import requests\n",
    "import matplotlib.pyplot as plt\n",
    "import matplotlib.dates as mdates\n",
    "import pandas as pd"
   ]
  },
  {
   "cell_type": "code",
   "execution_count": 3,
   "metadata": {},
   "outputs": [],
   "source": [
    "browser = Browser('chrome')"
   ]
  },
  {
   "cell_type": "code",
   "execution_count": 4,
   "metadata": {},
   "outputs": [],
   "source": [
    "# Visit the website\n",
    "# https://static.bc-edx.com/data/web/mars_facts/temperature.html\n",
    "url = \"https://static.bc-edx.com/data/web/mars_facts/temperature.html\"\n",
    "browser.visit(url)"
   ]
  },
  {
   "cell_type": "code",
   "execution_count": null,
   "metadata": {},
   "outputs": [],
   "source": [
    "# browser close for end\n",
    "browser.quit()"
   ]
  },
  {
   "cell_type": "code",
   "execution_count": 5,
   "metadata": {},
   "outputs": [],
   "source": [
    "# time for soup\n",
    "html =  browser.html\n",
    "soup = BeautifulSoup(html, features='html.parser')"
   ]
  },
  {
   "cell_type": "code",
   "execution_count": 11,
   "metadata": {},
   "outputs": [],
   "source": [
    "# id table container, it's named table\n",
    "table_container = soup.find('table', class_ = 'table')\n",
    "# run through table_container\n",
    "# first we want all of the table rows, not adding class_='data-row'\n",
    "# data[0] can be used as our column headers\n",
    "if table_container:\n",
    "    data = []\n",
    "    table_rows = table_container.find_all(\"tr\")\n",
    "    for row in table_rows:\n",
    "        # looking at each individual cell, individual cells hail from either th (for headers)\n",
    "        # or td (for the actual numbers)\n",
    "        ind_cells = row.find_all(['th','td'])\n",
    "        row_data = [ind_cell.get_text(strip=True) for ind_cell in ind_cells]\n",
    "        data.append(row_data)"
   ]
  },
  {
   "cell_type": "code",
   "execution_count": 15,
   "metadata": {},
   "outputs": [
    {
     "data": {
      "text/html": [
       "<div>\n",
       "<style scoped>\n",
       "    .dataframe tbody tr th:only-of-type {\n",
       "        vertical-align: middle;\n",
       "    }\n",
       "\n",
       "    .dataframe tbody tr th {\n",
       "        vertical-align: top;\n",
       "    }\n",
       "\n",
       "    .dataframe thead th {\n",
       "        text-align: right;\n",
       "    }\n",
       "</style>\n",
       "<table border=\"1\" class=\"dataframe\">\n",
       "  <thead>\n",
       "    <tr style=\"text-align: right;\">\n",
       "      <th></th>\n",
       "      <th>id</th>\n",
       "      <th>terrestrial_date</th>\n",
       "      <th>sol</th>\n",
       "      <th>ls</th>\n",
       "      <th>month</th>\n",
       "      <th>min_temp</th>\n",
       "      <th>pressure</th>\n",
       "    </tr>\n",
       "  </thead>\n",
       "  <tbody>\n",
       "    <tr>\n",
       "      <th>0</th>\n",
       "      <td>2</td>\n",
       "      <td>2012-08-16</td>\n",
       "      <td>10</td>\n",
       "      <td>155</td>\n",
       "      <td>6</td>\n",
       "      <td>-75.0</td>\n",
       "      <td>739.0</td>\n",
       "    </tr>\n",
       "    <tr>\n",
       "      <th>1</th>\n",
       "      <td>13</td>\n",
       "      <td>2012-08-17</td>\n",
       "      <td>11</td>\n",
       "      <td>156</td>\n",
       "      <td>6</td>\n",
       "      <td>-76.0</td>\n",
       "      <td>740.0</td>\n",
       "    </tr>\n",
       "    <tr>\n",
       "      <th>2</th>\n",
       "      <td>24</td>\n",
       "      <td>2012-08-18</td>\n",
       "      <td>12</td>\n",
       "      <td>156</td>\n",
       "      <td>6</td>\n",
       "      <td>-76.0</td>\n",
       "      <td>741.0</td>\n",
       "    </tr>\n",
       "    <tr>\n",
       "      <th>3</th>\n",
       "      <td>35</td>\n",
       "      <td>2012-08-19</td>\n",
       "      <td>13</td>\n",
       "      <td>157</td>\n",
       "      <td>6</td>\n",
       "      <td>-74.0</td>\n",
       "      <td>732.0</td>\n",
       "    </tr>\n",
       "    <tr>\n",
       "      <th>4</th>\n",
       "      <td>46</td>\n",
       "      <td>2012-08-20</td>\n",
       "      <td>14</td>\n",
       "      <td>157</td>\n",
       "      <td>6</td>\n",
       "      <td>-74.0</td>\n",
       "      <td>740.0</td>\n",
       "    </tr>\n",
       "  </tbody>\n",
       "</table>\n",
       "</div>"
      ],
      "text/plain": [
       "   id terrestrial_date  sol   ls  month  min_temp  pressure\n",
       "0   2       2012-08-16   10  155      6     -75.0     739.0\n",
       "1  13       2012-08-17   11  156      6     -76.0     740.0\n",
       "2  24       2012-08-18   12  156      6     -76.0     741.0\n",
       "3  35       2012-08-19   13  157      6     -74.0     732.0\n",
       "4  46       2012-08-20   14  157      6     -74.0     740.0"
      ]
     },
     "execution_count": 15,
     "metadata": {},
     "output_type": "execute_result"
    }
   ],
   "source": [
    "# data[0] contains headers, use headers as column names in df\n",
    "mars_headers = data[0]\n",
    "# data[1:] are the numbas, col data will be parsed in line with headers\n",
    "mars_data = data[1:]\n",
    "mars_scrape_df = pd.DataFrame(mars_data, columns=mars_headers)\n",
    "# recast columns as specific data types\n",
    "mars_scrape_df['id'] = mars_scrape_df['id'].astype(object)\n",
    "mars_scrape_df['terrestrial_date'] = pd.to_datetime(mars_scrape_df['terrestrial_date'])\n",
    "mars_scrape_df['sol'] = mars_scrape_df['sol'].astype(int)\n",
    "mars_scrape_df['ls'] = mars_scrape_df['ls'].astype(int)\n",
    "mars_scrape_df['month'] = mars_scrape_df['month'].astype(int)\n",
    "mars_scrape_df['min_temp'] = mars_scrape_df['min_temp'].astype(float)\n",
    "mars_scrape_df['pressure'] = mars_scrape_df['pressure'].astype(float)\n",
    "mars_scrape_df.head(5)"
   ]
  },
  {
   "cell_type": "code",
   "execution_count": 16,
   "metadata": {},
   "outputs": [],
   "source": [
    "# creating an output csv\n",
    "output_folder = \"Output\"\n",
    "output_csv = f\"{output_folder}/mars_temperature_data.csv\"\n",
    "# output as mars_temperature_data\n",
    "mars_scrape_df.to_csv(output_csv, sep=',', encoding='utf-8', index=False)"
   ]
  },
  {
   "cell_type": "code",
   "execution_count": 17,
   "metadata": {},
   "outputs": [
    {
     "data": {
      "text/plain": [
       "id                          object\n",
       "terrestrial_date    datetime64[ns]\n",
       "sol                          int32\n",
       "ls                           int32\n",
       "month                        int32\n",
       "min_temp                   float64\n",
       "pressure                   float64\n",
       "dtype: object"
      ]
     },
     "execution_count": 17,
     "metadata": {},
     "output_type": "execute_result"
    }
   ],
   "source": [
    "# confirm data types od scraped info\n",
    "mars_scrape_df.dtypes"
   ]
  },
  {
   "cell_type": "markdown",
   "metadata": {},
   "source": [
    "### questions, O questions\n",
    "\n",
    "Analyze your dataset by using Pandas functions to answer the following questions:\n",
    "\n",
    "1. How many months exist on Mars?\n",
    "2. How many Martian (and not Earth) days worth of data exist in the scraped dataset?\n",
    "3. What are the coldest and the warmest months on Mars (at the location of Curiosity)? To answer this question:\n",
    "    * Find the average the minimum daily temperature for all of the months.\n",
    "    * Plot the results as a bar chart.\n",
    "4. Which months have the lowest and the highest atmospheric pressure on Mars? To answer this question:\n",
    "    * Find the average the daily atmospheric pressure of all the months.\n",
    "    * Plot the results as a bar chart.\n",
    "5. About how many terrestrial (Earth) days exist in a Martian year? To answer this question:\n",
    "    * Consider how many days elapse on Earth in the time that Mars circles the Sun once.\n",
    "    * Visually estimate the result by plotting the daily minimum temperature."
   ]
  },
  {
   "cell_type": "code",
   "execution_count": 28,
   "metadata": {},
   "outputs": [
    {
     "name": "stdout",
     "output_type": "stream",
     "text": [
      "There are 12 martian months\n",
      "Here's the frequency of each months appearance: \n",
      "month\n",
      "1     174\n",
      "2     178\n",
      "3     192\n",
      "4     194\n",
      "5     149\n",
      "6     147\n",
      "7     142\n",
      "8     141\n",
      "9     134\n",
      "10    112\n",
      "11    138\n",
      "12    166\n",
      "Name: count, dtype: int64\n"
     ]
    }
   ],
   "source": [
    "#1. \n",
    "month_max = mars_scrape_df['month'].max()\n",
    "month_count = mars_scrape_df['month'].value_counts().sort_index()\n",
    "print(f\"There are\", month_max, \"martian months\")\n",
    "print(f\"Here's the frequency of each months appearance: \")\n",
    "print(month_count)"
   ]
  },
  {
   "cell_type": "code",
   "execution_count": 29,
   "metadata": {},
   "outputs": [
    {
     "name": "stdout",
     "output_type": "stream",
     "text": [
      "1867\n"
     ]
    }
   ],
   "source": [
    "#2. pd.unique also works\n",
    "observations = 0 \n",
    "for number in mars_scrape_df['sol']:\n",
    "    observations += 1\n",
    "print(observations)"
   ]
  },
  {
   "cell_type": "code",
   "execution_count": 35,
   "metadata": {},
   "outputs": [
    {
     "name": "stdout",
     "output_type": "stream",
     "text": [
      "month\n",
      "1    -77.160920\n",
      "2    -79.932584\n",
      "3    -83.307292\n",
      "4    -82.747423\n",
      "5    -79.308725\n",
      "6    -75.299320\n",
      "7    -72.281690\n",
      "8    -68.382979\n",
      "9    -69.171642\n",
      "10   -71.982143\n",
      "11   -71.985507\n",
      "12   -74.451807\n",
      "Name: min_temp, dtype: float64\n"
     ]
    }
   ],
   "source": [
    "# 3. averages group by month, setting numeric_only to pare down\n",
    "mars_avg = mars_scrape_df.groupby('month').mean(numeric_only=True)\n",
    "select_min_temp = mars_avg['min_temp']\n",
    "print(select_min_temp)"
   ]
  },
  {
   "cell_type": "code",
   "execution_count": 50,
   "metadata": {},
   "outputs": [
    {
     "data": {
      "image/png": "[encoded data removed]",
      "text/plain": [
       "<Figure size 640x480 with 1 Axes>"
      ]
     },
     "metadata": {},
     "output_type": "display_data"
    }
   ],
   "source": [
    "# 3. Bar Chart for min temps by month\n",
    "plt.bar(select_min_temp.index, select_min_temp.values, align='center', color='aqua')\n",
    "plt.title(\"Average Minimum Temp for each Martian Month\")\n",
    "plt.xlabel(\"Month\")\n",
    "plt.xticks(select_min_temp.index, rotation = 0, ha='center')\n",
    "plt.ylabel(\"Average Min Temp (°F)\")\n",
    "plt.show()"
   ]
  },
  {
   "cell_type": "code",
   "execution_count": 62,
   "metadata": {},
   "outputs": [
    {
     "name": "stdout",
     "output_type": "stream",
     "text": [
      "month\n",
      "1     862.489\n",
      "2     889.455\n",
      "3     877.323\n",
      "4     806.330\n",
      "5     748.557\n",
      "6     745.054\n",
      "7     795.106\n",
      "8     873.830\n",
      "9     913.306\n",
      "10    887.312\n",
      "11    857.014\n",
      "12    842.157\n",
      "Name: pressure, dtype: float64\n",
      "Lowest average pressure:  745.054\n",
      "Greatest average pressure:  913.306\n"
     ]
    }
   ],
   "source": [
    "#4. selecting for average pressure, lowest pressure id, greatest pressure id\n",
    "select_avg_pressure = mars_avg['pressure']\n",
    "lowest_pressure = select_avg_pressure.min()\n",
    "greatest_pressure = select_avg_pressure.max()\n",
    "print(round(select_avg_pressure, 3))\n",
    "print(f\"Lowest average pressure: \", round(lowest_pressure, 3))\n",
    "print(f\"Greatest average pressure: \", round(greatest_pressure, 3))"
   ]
  },
  {
   "cell_type": "code",
   "execution_count": null,
   "metadata": {},
   "outputs": [],
   "source": [
    "#4."
   ]
  }
 ],
 "metadata": {
  "kernelspec": {
   "display_name": "Python 3",
   "language": "python",
   "name": "python3"
  },
  "language_info": {
   "codemirror_mode": {
    "name": "ipython",
    "version": 3
   },
   "file_extension": ".py",
   "mimetype": "text/x-python",
   "name": "python",
   "nbconvert_exporter": "python",
   "pygments_lexer": "ipython3",
   "version": "3.11.4"
  },
  "orig_nbformat": 4
 },
 "nbformat": 4,
 "nbformat_minor": 2
}
