{
 "cells": [
  {
   "cell_type": "code",
   "execution_count": 96,
   "metadata": {},
   "outputs": [],
   "source": [
    "# Module 11 - Part 2: Mars Weather\n",
    "# import dependencies\n",
    "from splinter import Browser\n",
    "from bs4 import BeautifulSoup, element\n",
    "import requests\n",
    "import matplotlib.pyplot as plt\n",
    "import matplotlib.dates as mdates\n",
    "import pandas as pd"
   ]
  },
  {
   "cell_type": "code",
   "execution_count": 97,
   "metadata": {},
   "outputs": [],
   "source": [
    "browser = Browser('chrome')"
   ]
  },
  {
   "cell_type": "code",
   "execution_count": 98,
   "metadata": {},
   "outputs": [],
   "source": [
    "# Visit the website\n",
    "# https://static.bc-edx.com/data/web/mars_facts/temperature.html\n",
    "url = \"https://static.bc-edx.com/data/web/mars_facts/temperature.html\"\n",
    "browser.visit(url)"
   ]
  },
  {
   "cell_type": "code",
   "execution_count": 93,
   "metadata": {},
   "outputs": [],
   "source": [
    "# browser close for end\n",
    "browser.quit()"
   ]
  },
  {
   "cell_type": "code",
   "execution_count": 99,
   "metadata": {},
   "outputs": [],
   "source": [
    "# time for soup\n",
    "html =  browser.html\n",
    "soup = BeautifulSoup(html, features='html.parser')"
   ]
  },
  {
   "cell_type": "code",
   "execution_count": 100,
   "metadata": {},
   "outputs": [],
   "source": [
    "# id table container, it's named table\n",
    "table_container = soup.find('table', class_ = 'table')\n",
    "# run through table_container\n",
    "# first we want all of the table rows, not adding class_='data-row'\n",
    "# data[0] can be used as our column headers\n",
    "if table_container:\n",
    "    data = []\n",
    "    table_rows = table_container.find_all(\"tr\")\n",
    "    for row in table_rows:\n",
    "        # looking at each individual cell, individual cells hail from either th (for headers)\n",
    "        # or td (for the actual numbers)\n",
    "        ind_cells = row.find_all(['th','td'])\n",
    "        row_data = [ind_cell.get_text(strip=True) for ind_cell in ind_cells]\n",
    "        data.append(row_data)"
   ]
  },
  {
   "cell_type": "code",
   "execution_count": 101,
   "metadata": {},
   "outputs": [
    {
     "data": {
      "text/html": [
       "<div>\n",
       "<style scoped>\n",
       "    .dataframe tbody tr th:only-of-type {\n",
       "        vertical-align: middle;\n",
       "    }\n",
       "\n",
       "    .dataframe tbody tr th {\n",
       "        vertical-align: top;\n",
       "    }\n",
       "\n",
       "    .dataframe thead th {\n",
       "        text-align: right;\n",
       "    }\n",
       "</style>\n",
       "<table border=\"1\" class=\"dataframe\">\n",
       "  <thead>\n",
       "    <tr style=\"text-align: right;\">\n",
       "      <th></th>\n",
       "      <th>id</th>\n",
       "      <th>terrestrial_date</th>\n",
       "      <th>sol</th>\n",
       "      <th>ls</th>\n",
       "      <th>month</th>\n",
       "      <th>min_temp</th>\n",
       "      <th>pressure</th>\n",
       "    </tr>\n",
       "  </thead>\n",
       "  <tbody>\n",
       "    <tr>\n",
       "      <th>0</th>\n",
       "      <td>2</td>\n",
       "      <td>2012-08-16</td>\n",
       "      <td>10</td>\n",
       "      <td>155</td>\n",
       "      <td>6</td>\n",
       "      <td>-75.0</td>\n",
       "      <td>739.0</td>\n",
       "    </tr>\n",
       "    <tr>\n",
       "      <th>1</th>\n",
       "      <td>13</td>\n",
       "      <td>2012-08-17</td>\n",
       "      <td>11</td>\n",
       "      <td>156</td>\n",
       "      <td>6</td>\n",
       "      <td>-76.0</td>\n",
       "      <td>740.0</td>\n",
       "    </tr>\n",
       "    <tr>\n",
       "      <th>2</th>\n",
       "      <td>24</td>\n",
       "      <td>2012-08-18</td>\n",
       "      <td>12</td>\n",
       "      <td>156</td>\n",
       "      <td>6</td>\n",
       "      <td>-76.0</td>\n",
       "      <td>741.0</td>\n",
       "    </tr>\n",
       "    <tr>\n",
       "      <th>3</th>\n",
       "      <td>35</td>\n",
       "      <td>2012-08-19</td>\n",
       "      <td>13</td>\n",
       "      <td>157</td>\n",
       "      <td>6</td>\n",
       "      <td>-74.0</td>\n",
       "      <td>732.0</td>\n",
       "    </tr>\n",
       "    <tr>\n",
       "      <th>4</th>\n",
       "      <td>46</td>\n",
       "      <td>2012-08-20</td>\n",
       "      <td>14</td>\n",
       "      <td>157</td>\n",
       "      <td>6</td>\n",
       "      <td>-74.0</td>\n",
       "      <td>740.0</td>\n",
       "    </tr>\n",
       "  </tbody>\n",
       "</table>\n",
       "</div>"
      ],
      "text/plain": [
       "   id terrestrial_date  sol   ls  month  min_temp  pressure\n",
       "0   2       2012-08-16   10  155      6     -75.0     739.0\n",
       "1  13       2012-08-17   11  156      6     -76.0     740.0\n",
       "2  24       2012-08-18   12  156      6     -76.0     741.0\n",
       "3  35       2012-08-19   13  157      6     -74.0     732.0\n",
       "4  46       2012-08-20   14  157      6     -74.0     740.0"
      ]
     },
     "execution_count": 101,
     "metadata": {},
     "output_type": "execute_result"
    }
   ],
   "source": [
    "# data[0] contains headers, use headers as column names in df\n",
    "mars_headers = data[0]\n",
    "# data[1:] are the numbas, col data will be parsed in line with headers\n",
    "mars_data = data[1:]\n",
    "mars_scrape_df = pd.DataFrame(mars_data, columns=mars_headers)\n",
    "# recast columns as specific data types\n",
    "mars_scrape_df['id'] = mars_scrape_df['id'].astype(object)\n",
    "mars_scrape_df['terrestrial_date'] = pd.to_datetime(mars_scrape_df['terrestrial_date'])\n",
    "mars_scrape_df['sol'] = mars_scrape_df['sol'].astype(int)\n",
    "mars_scrape_df['ls'] = mars_scrape_df['ls'].astype(int)\n",
    "mars_scrape_df['month'] = mars_scrape_df['month'].astype(int)\n",
    "mars_scrape_df['min_temp'] = mars_scrape_df['min_temp'].astype(float)\n",
    "mars_scrape_df['pressure'] = mars_scrape_df['pressure'].astype(float)\n",
    "mars_scrape_df.head(5)"
   ]
  },
  {
   "cell_type": "code",
   "execution_count": null,
   "metadata": {},
   "outputs": [],
   "source": [
    "# creating an output csv\n",
    "output_folder = \"Output\"\n",
    "output_csv = f\"{output_folder}/mars_temperature_data.csv\"\n",
    "# output as mars_temperature_data\n",
    "mars_scrape_df.to_csv(output_csv, sep=',', encoding='utf-8', index=False)"
   ]
  },
  {
   "cell_type": "code",
   "execution_count": 103,
   "metadata": {},
   "outputs": [
    {
     "data": {
      "text/plain": [
       "id                          object\n",
       "terrestrial_date    datetime64[ns]\n",
       "sol                          int32\n",
       "ls                           int32\n",
       "month                        int32\n",
       "min_temp                   float64\n",
       "pressure                   float64\n",
       "dtype: object"
      ]
     },
     "execution_count": 103,
     "metadata": {},
     "output_type": "execute_result"
    }
   ],
   "source": [
    "# confirm data types of scraped info\n",
    "mars_scrape_df.dtypes"
   ]
  },
  {
   "cell_type": "markdown",
   "metadata": {},
   "source": [
    "### questions, O questions\n",
    "\n",
    "Analyze your dataset by using Pandas functions to answer the following questions:\n",
    "\n",
    "1. How many months exist on Mars?\n",
    "2. How many Martian (and not Earth) days worth of data exist in the scraped dataset?\n",
    "3. What are the coldest and the warmest months on Mars (at the location of Curiosity)? To answer this question:\n",
    "    * Find the average the minimum daily temperature for all of the months.\n",
    "    * Plot the results as a bar chart.\n",
    "4. Which months have the lowest and the highest atmospheric pressure on Mars? To answer this question:\n",
    "    * Find the average the daily atmospheric pressure of all the months.\n",
    "    * Plot the results as a bar chart.\n",
    "5. About how many terrestrial (Earth) days exist in a Martian year? To answer this question:\n",
    "    * Consider how many days elapse on Earth in the time that Mars circles the Sun once.\n",
    "    * Visually estimate the result by plotting the daily minimum temperature."
   ]
  },
  {
   "cell_type": "code",
   "execution_count": 104,
   "metadata": {},
   "outputs": [
    {
     "name": "stdout",
     "output_type": "stream",
     "text": [
      "There are 12 martian months\n",
      "Here's the frequency of each months appearance: \n",
      "month\n",
      "1     174\n",
      "2     178\n",
      "3     192\n",
      "4     194\n",
      "5     149\n",
      "6     147\n",
      "7     142\n",
      "8     141\n",
      "9     134\n",
      "10    112\n",
      "11    138\n",
      "12    166\n",
      "Name: count, dtype: int64\n"
     ]
    }
   ],
   "source": [
    "#1. \n",
    "month_max = mars_scrape_df['month'].max()\n",
    "month_count = mars_scrape_df['month'].value_counts().sort_index()\n",
    "print(f\"There are\", month_max, \"martian months\")\n",
    "print(f\"Here's the frequency of each months appearance: \")\n",
    "print(month_count)"
   ]
  },
  {
   "cell_type": "code",
   "execution_count": 105,
   "metadata": {},
   "outputs": [
    {
     "data": {
      "text/plain": [
       "1867"
      ]
     },
     "execution_count": 105,
     "metadata": {},
     "output_type": "execute_result"
    }
   ],
   "source": [
    "#2. number of unique observations (martian days)\n",
    "mars_scrape_df['sol'].nunique()"
   ]
  },
  {
   "cell_type": "code",
   "execution_count": 106,
   "metadata": {},
   "outputs": [
    {
     "name": "stdout",
     "output_type": "stream",
     "text": [
      "month\n",
      "1    -77.161\n",
      "2    -79.933\n",
      "3    -83.307\n",
      "4    -82.747\n",
      "5    -79.309\n",
      "6    -75.299\n",
      "7    -72.282\n",
      "8    -68.383\n",
      "9    -69.172\n",
      "10   -71.982\n",
      "11   -71.986\n",
      "12   -74.452\n",
      "Name: min_temp, dtype: float64\n",
      "Lowest average min temp:  -83.307\n",
      "Greatest average min temp:  -68.383\n"
     ]
    }
   ],
   "source": [
    "# 3. averages group by month, setting numeric_only to pare down\n",
    "mars_avg = mars_scrape_df.groupby('month').mean(numeric_only=True)\n",
    "select_min_temp = mars_avg['min_temp']\n",
    "lowest_temp = select_min_temp.min()\n",
    "greatest_temp = select_min_temp.max()\n",
    "print(round(select_min_temp,3))\n",
    "print(f\"Lowest average min temp: \", round(lowest_temp, 3))\n",
    "print(f\"Greatest average min temp: \", round(greatest_temp, 3))\n"
   ]
  },
  {
   "cell_type": "code",
   "execution_count": 107,
   "metadata": {},
   "outputs": [
    {
     "data": {
      "image/png": "[encoded data removed]",
      "text/plain": [
       "<Figure size 640x480 with 1 Axes>"
      ]
     },
     "metadata": {},
     "output_type": "display_data"
    }
   ],
   "source": [
    "# 3. Bar Chart for min temps by month\n",
    "plt.bar(select_min_temp.index, select_min_temp.values, align='center',\n",
    "        color= ['aqua','aqua','lightblue','aqua','aqua','aqua','aqua','pink','aqua','aqua','aqua','aqua'])\n",
    "plt.title(\"Average Minimum Temp for each Martian Month\")\n",
    "plt.xlabel(\"Month\")\n",
    "plt.xticks(select_min_temp.index, rotation = 0, ha='center')\n",
    "plt.ylabel(\"Average Min Temp (°F)\")\n",
    "plt.show()"
   ]
  },
  {
   "cell_type": "code",
   "execution_count": 108,
   "metadata": {},
   "outputs": [
    {
     "name": "stdout",
     "output_type": "stream",
     "text": [
      "month\n",
      "1     862.489\n",
      "2     889.455\n",
      "3     877.323\n",
      "4     806.330\n",
      "5     748.557\n",
      "6     745.054\n",
      "7     795.106\n",
      "8     873.830\n",
      "9     913.306\n",
      "10    887.312\n",
      "11    857.014\n",
      "12    842.157\n",
      "Name: pressure, dtype: float64\n",
      "Lowest average pressure:  745.054\n",
      "Greatest average pressure:  913.306\n"
     ]
    }
   ],
   "source": [
    "#4. selecting for average pressure, lowest pressure id, greatest pressure id\n",
    "select_avg_pressure = mars_avg['pressure']\n",
    "lowest_pressure = select_avg_pressure.min()\n",
    "greatest_pressure = select_avg_pressure.max()\n",
    "print(round(select_avg_pressure, 3))\n",
    "print(f\"Lowest average pressure: \", round(lowest_pressure, 3))\n",
    "print(f\"Greatest average pressure: \", round(greatest_pressure, 3))"
   ]
  },
  {
   "cell_type": "code",
   "execution_count": 109,
   "metadata": {},
   "outputs": [
    {
     "data": {
      "image/png": "[encoded data removed]",
      "text/plain": [
       "<Figure size 640x480 with 1 Axes>"
      ]
     },
     "metadata": {},
     "output_type": "display_data"
    }
   ],
   "source": [
    "#4. bar chart for average pressure by month\n",
    "# explode doesn't work, idk what i expected\n",
    "plt.bar(select_avg_pressure.index, select_avg_pressure.values, align='center', \n",
    "        color= ['aquamarine','aquamarine','aquamarine','aquamarine','aquamarine','lightblue','aquamarine','aquamarine','orange','aquamarine','aquamarine','aquamarine'])\n",
    "plt.title(\"Average Pressure for each Martian Month\")\n",
    "plt.xlabel(\"Month\")\n",
    "plt.xticks(select_min_temp.index, rotation = 0, ha='center')\n",
    "plt.ylabel(\"Average Pressure (Pa)\")\n",
    "plt.show()"
   ]
  },
  {
   "cell_type": "code",
   "execution_count": 110,
   "metadata": {},
   "outputs": [
    {
     "name": "stdout",
     "output_type": "stream",
     "text": [
      "A martian year consists of:  687 days 00:00:00\n"
     ]
    }
   ],
   "source": [
    "# How many terrestrial (earth) days are there in a Martian year?\n",
    "# Use solar longitude to id martian year, run difference in terrestrial_date for earth days\n",
    "# let's just set starting ls to zero, year completes when we return to zero\n",
    "ls_zero = (mars_scrape_df[mars_scrape_df['ls'] == 0])\n",
    "# .loc keeps kicking back, selecting rows manually for now\n",
    "date_difference = ls_zero.iloc[3]['terrestrial_date'] - ls_zero.iloc[1]['terrestrial_date']\n",
    "print(f\"A martian year consists of: \", date_difference)"
   ]
  },
  {
   "cell_type": "code",
   "execution_count": 120,
   "metadata": {},
   "outputs": [
    {
     "data": {
      "image/png": "[encoded data removed]",
      "text/plain": [
       "<Figure size 640x480 with 1 Axes>"
      ]
     },
     "metadata": {},
     "output_type": "display_data"
    }
   ],
   "source": [
    "# visualize difference using min_temp to estimate instead?\n",
    "plt.plot(mars_scrape_df['terrestrial_date'], mars_scrape_df['min_temp'])\n",
    "# setting xtick dates to days, interval at 250, format to read as day month\n",
    "plt.gca().xaxis.set_major_locator(mdates.DayLocator(interval=250))\n",
    "plt.gca().xaxis.set_major_formatter(mdates.DateFormatter('%d %b'))\n",
    "plt.title(\"Min Temp on Mars parsed by Earth days\")\n",
    "plt.xlabel(\"Date\")\n",
    "plt.xticks(rotation = 30, ha='center')\n",
    "plt.ylabel(\"Min Temp (°F)\")\n",
    "plt.show()"
   ]
  },
  {
   "cell_type": "code",
   "execution_count": 121,
   "metadata": {},
   "outputs": [
    {
     "data": {
      "text/html": [
       "<div>\n",
       "<style scoped>\n",
       "    .dataframe tbody tr th:only-of-type {\n",
       "        vertical-align: middle;\n",
       "    }\n",
       "\n",
       "    .dataframe tbody tr th {\n",
       "        vertical-align: top;\n",
       "    }\n",
       "\n",
       "    .dataframe thead th {\n",
       "        text-align: right;\n",
       "    }\n",
       "</style>\n",
       "<table border=\"1\" class=\"dataframe\">\n",
       "  <thead>\n",
       "    <tr style=\"text-align: right;\">\n",
       "      <th></th>\n",
       "      <th>id</th>\n",
       "      <th>terrestrial_date</th>\n",
       "      <th>sol</th>\n",
       "      <th>ls</th>\n",
       "      <th>month</th>\n",
       "      <th>min_temp</th>\n",
       "      <th>pressure</th>\n",
       "      <th>Days</th>\n",
       "    </tr>\n",
       "  </thead>\n",
       "  <tbody>\n",
       "    <tr>\n",
       "      <th>0</th>\n",
       "      <td>2</td>\n",
       "      <td>2012-08-16</td>\n",
       "      <td>10</td>\n",
       "      <td>155</td>\n",
       "      <td>6</td>\n",
       "      <td>-75.0</td>\n",
       "      <td>739.0</td>\n",
       "      <td>2012-08-16</td>\n",
       "    </tr>\n",
       "    <tr>\n",
       "      <th>1</th>\n",
       "      <td>13</td>\n",
       "      <td>2012-08-17</td>\n",
       "      <td>11</td>\n",
       "      <td>156</td>\n",
       "      <td>6</td>\n",
       "      <td>-76.0</td>\n",
       "      <td>740.0</td>\n",
       "      <td>2012-08-16</td>\n",
       "    </tr>\n",
       "    <tr>\n",
       "      <th>2</th>\n",
       "      <td>24</td>\n",
       "      <td>2012-08-18</td>\n",
       "      <td>12</td>\n",
       "      <td>156</td>\n",
       "      <td>6</td>\n",
       "      <td>-76.0</td>\n",
       "      <td>741.0</td>\n",
       "      <td>2012-08-16</td>\n",
       "    </tr>\n",
       "    <tr>\n",
       "      <th>3</th>\n",
       "      <td>35</td>\n",
       "      <td>2012-08-19</td>\n",
       "      <td>13</td>\n",
       "      <td>157</td>\n",
       "      <td>6</td>\n",
       "      <td>-74.0</td>\n",
       "      <td>732.0</td>\n",
       "      <td>2012-08-16</td>\n",
       "    </tr>\n",
       "    <tr>\n",
       "      <th>4</th>\n",
       "      <td>46</td>\n",
       "      <td>2012-08-20</td>\n",
       "      <td>14</td>\n",
       "      <td>157</td>\n",
       "      <td>6</td>\n",
       "      <td>-74.0</td>\n",
       "      <td>740.0</td>\n",
       "      <td>2012-08-16</td>\n",
       "    </tr>\n",
       "    <tr>\n",
       "      <th>...</th>\n",
       "      <td>...</td>\n",
       "      <td>...</td>\n",
       "      <td>...</td>\n",
       "      <td>...</td>\n",
       "      <td>...</td>\n",
       "      <td>...</td>\n",
       "      <td>...</td>\n",
       "      <td>...</td>\n",
       "    </tr>\n",
       "    <tr>\n",
       "      <th>1862</th>\n",
       "      <td>1889</td>\n",
       "      <td>2018-02-23</td>\n",
       "      <td>1973</td>\n",
       "      <td>133</td>\n",
       "      <td>5</td>\n",
       "      <td>-78.0</td>\n",
       "      <td>730.0</td>\n",
       "      <td>2012-08-16</td>\n",
       "    </tr>\n",
       "    <tr>\n",
       "      <th>1863</th>\n",
       "      <td>1892</td>\n",
       "      <td>2018-02-24</td>\n",
       "      <td>1974</td>\n",
       "      <td>134</td>\n",
       "      <td>5</td>\n",
       "      <td>-77.0</td>\n",
       "      <td>729.0</td>\n",
       "      <td>2012-08-16</td>\n",
       "    </tr>\n",
       "    <tr>\n",
       "      <th>1864</th>\n",
       "      <td>1894</td>\n",
       "      <td>2018-02-25</td>\n",
       "      <td>1975</td>\n",
       "      <td>134</td>\n",
       "      <td>5</td>\n",
       "      <td>-76.0</td>\n",
       "      <td>729.0</td>\n",
       "      <td>2012-08-16</td>\n",
       "    </tr>\n",
       "    <tr>\n",
       "      <th>1865</th>\n",
       "      <td>1893</td>\n",
       "      <td>2018-02-26</td>\n",
       "      <td>1976</td>\n",
       "      <td>135</td>\n",
       "      <td>5</td>\n",
       "      <td>-77.0</td>\n",
       "      <td>728.0</td>\n",
       "      <td>2012-08-16</td>\n",
       "    </tr>\n",
       "    <tr>\n",
       "      <th>1866</th>\n",
       "      <td>1895</td>\n",
       "      <td>2018-02-27</td>\n",
       "      <td>1977</td>\n",
       "      <td>135</td>\n",
       "      <td>5</td>\n",
       "      <td>-77.0</td>\n",
       "      <td>727.0</td>\n",
       "      <td>2012-08-16</td>\n",
       "    </tr>\n",
       "  </tbody>\n",
       "</table>\n",
       "<p>1867 rows × 8 columns</p>\n",
       "</div>"
      ],
      "text/plain": [
       "        id terrestrial_date   sol   ls  month  min_temp  pressure       Days\n",
       "0        2       2012-08-16    10  155      6     -75.0     739.0 2012-08-16\n",
       "1       13       2012-08-17    11  156      6     -76.0     740.0 2012-08-16\n",
       "2       24       2012-08-18    12  156      6     -76.0     741.0 2012-08-16\n",
       "3       35       2012-08-19    13  157      6     -74.0     732.0 2012-08-16\n",
       "4       46       2012-08-20    14  157      6     -74.0     740.0 2012-08-16\n",
       "...    ...              ...   ...  ...    ...       ...       ...        ...\n",
       "1862  1889       2018-02-23  1973  133      5     -78.0     730.0 2012-08-16\n",
       "1863  1892       2018-02-24  1974  134      5     -77.0     729.0 2012-08-16\n",
       "1864  1894       2018-02-25  1975  134      5     -76.0     729.0 2012-08-16\n",
       "1865  1893       2018-02-26  1976  135      5     -77.0     728.0 2012-08-16\n",
       "1866  1895       2018-02-27  1977  135      5     -77.0     727.0 2012-08-16\n",
       "\n",
       "[1867 rows x 8 columns]"
      ]
     },
     "execution_count": 121,
     "metadata": {},
     "output_type": "execute_result"
    }
   ],
   "source": [
    "mars_scrape_df['Days'] = mars_scrape\n"
   ]
  }
 ],
 "metadata": {
  "kernelspec": {
   "display_name": "Python 3",
   "language": "python",
   "name": "python3"
  },
  "language_info": {
   "codemirror_mode": {
    "name": "ipython",
    "version": 3
   },
   "file_extension": ".py",
   "mimetype": "text/x-python",
   "name": "python",
   "nbconvert_exporter": "python",
   "pygments_lexer": "ipython3",
   "version": "3.11.4"
  },
  "orig_nbformat": 4
 },
 "nbformat": 4,
 "nbformat_minor": 2
}
